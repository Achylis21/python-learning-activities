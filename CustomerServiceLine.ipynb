{
 "cells": [
  {
   "cell_type": "code",
   "execution_count": 1,
   "id": "da693cf2-5a5b-42db-9b3e-5344ed1c91e7",
   "metadata": {},
   "outputs": [],
   "source": [
    "import random as rand\n",
    "import asyncio"
   ]
  },
  {
   "cell_type": "code",
   "execution_count": 2,
   "id": "fc8dc011-2e15-4e0e-82f6-cc13a88e169b",
   "metadata": {},
   "outputs": [],
   "source": [
    "class Queue:\n",
    "    def __init__(self):\n",
    "        self.callQueue = []\n",
    "    \n",
    "    def enqueue(self, call):\n",
    "        self.callQueue.append(call) #Add item on queue\n",
    "    \n",
    "    def dequeue(self):\n",
    "        temp = self.peek()\n",
    "        self.callQueue.pop(0) #remove item on queue\n",
    "        return temp # to transfer the removed item on queue to agentleg\n",
    "\n",
    "    # To check if the queue is empty\n",
    "    def is_empty(self):\n",
    "        return len(self.callQueue) == 0\n",
    "            \n",
    "    # To check the first item of queue\n",
    "    def peek(self):\n",
    "        if self.is_empty():\n",
    "            return None\n",
    "        else:\n",
    "            return self.callQueue[0]\n",
    "            \n",
    "    def showQueue(self):\n",
    "        for item in self.callQueue:\n",
    "            print(f'{item}')"
   ]
  },
  {
   "cell_type": "code",
   "execution_count": 3,
   "id": "3405ef4d-7735-435c-96e1-9bc02c2f5ea5",
   "metadata": {},
   "outputs": [],
   "source": [
    "class AgentLeg:\n",
    "    def __init__(self, avail = True):\n",
    "        self.queue = Queue() #creating an instance of queue\n",
    "        self.callTime = rand.randrange(10,20)\n",
    "        self.avail = avail\n",
    "\n",
    "    async def getCall(self):\n",
    "        #Processing call\n",
    "        await asyncio.sleep(self.callTime)\n",
    "        #end of call\n",
    "\n",
    "        #Check if queue is empty or not\n",
    "        #If not empty, agent will continue to work on\n",
    "        if not self.queue.is_empty():\n",
    "            self.queue.dequeue()\n",
    "            asyncio.create_task(self.getCall())\n",
    "        #if empty, go back to avail status\n",
    "        else:\n",
    "            self.avail = True\n",
    "            \n",
    "    def giveCall(self, call):\n",
    "        if self.avail:\n",
    "            self.avail = False\n",
    "            asyncio.create_task(self.getCall()) #Start of call\n",
    "        else:\n",
    "            self.queue.enqueue(call) #Transfer call to queue if agent is busy"
   ]
  },
  {
   "cell_type": "code",
   "execution_count": 4,
   "id": "87cb4495-9a02-461a-bf7a-b0a0ac0ce9b8",
   "metadata": {},
   "outputs": [],
   "source": [
    "agent = AgentLeg()"
   ]
  },
  {
   "cell_type": "code",
   "execution_count": 5,
   "id": "02766164-20f0-4c66-b0f2-11b36473e11c",
   "metadata": {},
   "outputs": [],
   "source": [
    "agent.giveCall(\"test1\")\n",
    "await asyncio.sleep(10)\n",
    "agent.giveCall(\"test2\")\n",
    "agent.giveCall(\"test3\")\n",
    "await asyncio.sleep(100)"
   ]
  },
  {
   "cell_type": "code",
   "execution_count": null,
   "id": "0016bfa9-7bc8-491d-9416-5d97ece72c67",
   "metadata": {},
   "outputs": [],
   "source": []
  }
 ],
 "metadata": {
  "kernelspec": {
   "display_name": "Python 3 (ipykernel)",
   "language": "python",
   "name": "python3"
  },
  "language_info": {
   "codemirror_mode": {
    "name": "ipython",
    "version": 3
   },
   "file_extension": ".py",
   "mimetype": "text/x-python",
   "name": "python",
   "nbconvert_exporter": "python",
   "pygments_lexer": "ipython3",
   "version": "3.13.2"
  }
 },
 "nbformat": 4,
 "nbformat_minor": 5
}
