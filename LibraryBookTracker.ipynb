{
 "cells": [
  {
   "cell_type": "code",
   "execution_count": null,
   "id": "31bd28f9-770a-4fb4-8240-eb7db8d5c676",
   "metadata": {},
   "outputs": [],
   "source": [
    "class Book:\n",
    "    def __init__(self, title, author, yearPublished):\n",
    "        self.title = title\n",
    "        self.author = author\n",
    "        self.yearPublished = yearPublished\n",
    "        self.availability = True\n",
    "\n",
    "    def display_details(self):\n",
    "        print(f'Title: {self.title}')\n",
    "        print(f'Author: {self.author}')\n",
    "        print(f'Published Year: {self.yearPublished}')\n",
    "        print(f'Availability: {\"Available\" if self.availability else \"Borrowed\"}')\n",
    "\n",
    "    def borrow_book(self):\n",
    "        self.availability = False\n",
    "\n",
    "    def return_book(self):\n",
    "        self.availability = True"
   ]
  },
  {
   "cell_type": "code",
   "execution_count": 2,
   "id": "a86e1712-623b-413c-a6c1-45166ca4f0ef",
   "metadata": {},
   "outputs": [],
   "source": [
    "bookList = []\n",
    "class StoryBook(Book):\n",
    "    pass\n",
    "class HorrorBook(Book):\n",
    "    pass\n",
    "class ComedyBook(Book):\n",
    "    pass\n",
    "bookList.append(StoryBook(\"Narnia\", \"C.S Lewis\", \"1950\"))\n",
    "bookList.append(HorrorBook(\"Frankenstein\", \"Mary Wollstonecraft Shelly\", \"1818\"))\n",
    "bookList.append(ComedyBook(\"The Hitchhiker's Guide to the Galaxy\", \"Douglas Adams\", \"1979\"))"
   ]
  },
  {
   "cell_type": "code",
   "execution_count": 3,
   "id": "91029a10-864a-4154-9bcd-f3ba05e03f27",
   "metadata": {},
   "outputs": [],
   "source": [
    "def searchBook(library, title):\n",
    "    for item in library:\n",
    "        if item.title == title:\n",
    "            item.display_details()\n",
    "            return item\n",
    "    return None"
   ]
  },
  {
   "cell_type": "code",
   "execution_count": 4,
   "id": "ce040a82-0b0e-4b26-a171-c735b1ef7918",
   "metadata": {},
   "outputs": [],
   "source": [
    "def borrowBook(func, library, title):\n",
    "    book = func(library, title)\n",
    "    if book.availability == True:\n",
    "        book.borrow_book()\n",
    "        return \"Book Borrowed\"\n",
    "    elif book.availability == False:\n",
    "        return \"Book not available\"\n",
    "    else:\n",
    "        return \"Book does not exists\""
   ]
  },
  {
   "cell_type": "code",
   "execution_count": 5,
   "id": "a97d8cac-d024-445a-bf3d-42419eed1141",
   "metadata": {},
   "outputs": [],
   "source": [
    "def returnBook(func, library, title):\n",
    "    book = func(library, title)\n",
    "\n",
    "    book.return_book()\n",
    "    return \"Book Returned\""
   ]
  },
  {
   "cell_type": "code",
   "execution_count": 6,
   "id": "fcb8e2a0-74c0-46d7-be4d-3bed48b4c385",
   "metadata": {},
   "outputs": [],
   "source": [
    "def displayLibrary(library):\n",
    "    for item in library:\n",
    "        item.display_details()\n",
    "        print(\"-----------------------\")"
   ]
  },
  {
   "cell_type": "code",
   "execution_count": 7,
   "id": "680d5fec-6be6-4199-8dfb-4175c30920eb",
   "metadata": {},
   "outputs": [
    {
     "name": "stdout",
     "output_type": "stream",
     "text": [
      "Title: Narnia\n",
      "Author: C.S Lewis\n",
      "Published Year: 1950\n",
      "Availability: Available\n"
     ]
    },
    {
     "data": {
      "text/plain": [
       "'Book Borrowed'"
      ]
     },
     "execution_count": 7,
     "metadata": {},
     "output_type": "execute_result"
    }
   ],
   "source": [
    "borrowBook(searchBook, bookList, \"Narnia\")"
   ]
  },
  {
   "cell_type": "code",
   "execution_count": 8,
   "id": "6ddcb863-8179-48d5-aed5-cf7db8641f81",
   "metadata": {},
   "outputs": [
    {
     "name": "stdout",
     "output_type": "stream",
     "text": [
      "Title: Narnia\n",
      "Author: C.S Lewis\n",
      "Published Year: 1950\n",
      "Availability: Borrowed\n",
      "-----------------------\n",
      "Title: Frankenstein\n",
      "Author: Mary Wollstonecraft Shelly\n",
      "Published Year: 1818\n",
      "Availability: Available\n",
      "-----------------------\n",
      "Title: The Hitchhiker's Guide to the Galaxy\n",
      "Author: Douglas Adams\n",
      "Published Year: 1979\n",
      "Availability: Available\n",
      "-----------------------\n"
     ]
    }
   ],
   "source": [
    "displayLibrary(bookList)"
   ]
  },
  {
   "cell_type": "code",
   "execution_count": 9,
   "id": "9233ea19-deba-46a9-964c-f77412d7cdcc",
   "metadata": {},
   "outputs": [
    {
     "name": "stdout",
     "output_type": "stream",
     "text": [
      "Title: Narnia\n",
      "Author: C.S Lewis\n",
      "Published Year: 1950\n",
      "Availability: Borrowed\n"
     ]
    },
    {
     "data": {
      "text/plain": [
       "'Book Returned'"
      ]
     },
     "execution_count": 9,
     "metadata": {},
     "output_type": "execute_result"
    }
   ],
   "source": [
    "returnBook(searchBook, bookList, \"Narnia\")"
   ]
  },
  {
   "cell_type": "code",
   "execution_count": 10,
   "id": "09991062-623d-4268-9bae-96dad1b7699e",
   "metadata": {},
   "outputs": [
    {
     "name": "stdout",
     "output_type": "stream",
     "text": [
      "Title: Narnia\n",
      "Author: C.S Lewis\n",
      "Published Year: 1950\n",
      "Availability: Available\n",
      "-----------------------\n",
      "Title: Frankenstein\n",
      "Author: Mary Wollstonecraft Shelly\n",
      "Published Year: 1818\n",
      "Availability: Available\n",
      "-----------------------\n",
      "Title: The Hitchhiker's Guide to the Galaxy\n",
      "Author: Douglas Adams\n",
      "Published Year: 1979\n",
      "Availability: Available\n",
      "-----------------------\n"
     ]
    }
   ],
   "source": [
    "displayLibrary(bookList)"
   ]
  }
 ],
 "metadata": {
  "kernelspec": {
   "display_name": "Python 3 (ipykernel)",
   "language": "python",
   "name": "python3"
  },
  "language_info": {
   "codemirror_mode": {
    "name": "ipython",
    "version": 3
   },
   "file_extension": ".py",
   "mimetype": "text/x-python",
   "name": "python",
   "nbconvert_exporter": "python",
   "pygments_lexer": "ipython3",
   "version": "3.13.2"
  }
 },
 "nbformat": 4,
 "nbformat_minor": 5
}
